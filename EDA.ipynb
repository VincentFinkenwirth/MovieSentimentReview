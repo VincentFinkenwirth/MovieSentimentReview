{
 "cells": [
  {
   "cell_type": "code",
   "execution_count": 1,
   "id": "initial_id",
   "metadata": {
    "collapsed": true,
    "ExecuteTime": {
     "end_time": "2025-01-30T17:48:24.952543Z",
     "start_time": "2025-01-30T17:48:24.949875900Z"
    }
   },
   "outputs": [],
   "source": [
    "\n",
    "import pandas as pd\n",
    "import matplotlib.pyplot as plt\n",
    "import seaborn as sns\n"
   ]
  },
  {
   "cell_type": "code",
   "execution_count": 8,
   "outputs": [],
   "source": [
    "### load data from csv\n",
    "data_imdb = pd.read_csv(\"data/imdb_data.csv\")\n",
    "data_rotten = pd.read_csv(\"data/rotten_tomatoes_movie_reviews.csv\")"
   ],
   "metadata": {
    "collapsed": false,
    "ExecuteTime": {
     "end_time": "2025-01-30T17:51:45.638747700Z",
     "start_time": "2025-01-30T17:51:42.103478500Z"
    }
   },
   "id": "ebdd288a334ccca0"
  },
  {
   "cell_type": "code",
   "execution_count": 4,
   "outputs": [
    {
     "data": {
      "text/plain": "Index(['review', 'sentiment'], dtype='object')"
     },
     "execution_count": 4,
     "metadata": {},
     "output_type": "execute_result"
    }
   ],
   "source": [
    "# EDA imdb data\n",
    "data_imdb.columns\n",
    "print(data_imdb.head())"
   ],
   "metadata": {
    "collapsed": false,
    "ExecuteTime": {
     "end_time": "2025-01-30T17:50:02.154463700Z",
     "start_time": "2025-01-30T17:50:02.145991500Z"
    }
   },
   "id": "f3897ba3cfe54187"
  },
  {
   "cell_type": "code",
   "execution_count": 5,
   "outputs": [
    {
     "data": {
      "text/plain": "Index(['id', 'reviewId', 'creationDate', 'criticName', 'isTopCritic',\n       'originalScore', 'reviewState', 'publicatioName', 'reviewText',\n       'scoreSentiment', 'reviewUrl'],\n      dtype='object')"
     },
     "execution_count": 5,
     "metadata": {},
     "output_type": "execute_result"
    }
   ],
   "source": [
    "# EDA rotten data\n",
    "data_rotten.columns\n",
    "print(data_rotten.head())"
   ],
   "metadata": {
    "collapsed": false,
    "ExecuteTime": {
     "end_time": "2025-01-30T17:50:07.787500400Z",
     "start_time": "2025-01-30T17:50:07.779342Z"
    }
   },
   "id": "a1be4ea6e95c4b65"
  },
  {
   "cell_type": "code",
   "execution_count": 10,
   "outputs": [],
   "source": [
    "# Drop columns not needed from rotten data\n",
    "data_rotten = data_rotten[[\"reviewText\", \"scoreSentiment\"]]"
   ],
   "metadata": {
    "collapsed": false,
    "ExecuteTime": {
     "end_time": "2025-01-30T17:52:06.691751400Z",
     "start_time": "2025-01-30T17:52:06.691246600Z"
    }
   },
   "id": "efc7b324fefc4ec4"
  },
  {
   "cell_type": "code",
   "execution_count": 6,
   "outputs": [
    {
     "name": "stdout",
     "output_type": "stream",
     "text": [
      "sentiment\n",
      "positive    25000\n",
      "negative    25000\n",
      "Name: count, dtype: int64\n"
     ]
    }
   ],
   "source": [
    "# Get an overview of imdb sentiment split\n",
    "print(data_imdb[\"sentiment\"].value_counts())\n",
    "# Equally positive and negative, which helps reduce bias"
   ],
   "metadata": {
    "collapsed": false,
    "ExecuteTime": {
     "end_time": "2025-01-16T18:30:31.552763900Z",
     "start_time": "2025-01-16T18:30:31.548860500Z"
    }
   },
   "id": "da7bb75f4b6ec0f"
  },
  {
   "cell_type": "code",
   "execution_count": 12,
   "outputs": [
    {
     "name": "stdout",
     "output_type": "stream",
     "text": [
      "scoreSentiment\n",
      "POSITIVE    963799\n",
      "NEGATIVE    481164\n",
      "Name: count, dtype: int64\n"
     ]
    }
   ],
   "source": [
    "# Get an overview of rotten sentiment split\n",
    "print(data_rotten[\"scoreSentiment\"].value_counts())"
   ],
   "metadata": {
    "collapsed": false,
    "ExecuteTime": {
     "end_time": "2025-01-30T17:52:17.263793600Z",
     "start_time": "2025-01-30T17:52:17.263289900Z"
    }
   },
   "id": "648c528f818a438e"
  },
  {
   "cell_type": "code",
   "execution_count": null,
   "outputs": [],
   "source": [
    "# IMDB data is balanced, while rotten data is not -> Rotten data will need to be balanced to be used in training"
   ],
   "metadata": {
    "collapsed": false
   },
   "id": "81d0bc5f744e9a4a"
  },
  {
   "cell_type": "code",
   "execution_count": 15,
   "outputs": [
    {
     "name": "stdout",
     "output_type": "stream",
     "text": [
      "review       0\n",
      "sentiment    0\n",
      "dtype: int64\n",
      "reviewText        0\n",
      "scoreSentiment    0\n",
      "dtype: int64\n"
     ]
    }
   ],
   "source": [
    "# Check for missing values\n",
    "print(data_imdb.isnull().sum())\n",
    "print(data_rotten.isnull().sum())"
   ],
   "metadata": {
    "collapsed": false,
    "ExecuteTime": {
     "end_time": "2025-01-30T17:54:58.164689300Z",
     "start_time": "2025-01-30T17:54:58.089160900Z"
    }
   },
   "id": "f6986f72cc04ff2f"
  },
  {
   "cell_type": "code",
   "execution_count": 14,
   "outputs": [],
   "source": [
    "# Rotten data has missing values -> Need to be dropped before training\n",
    "data_rotten.dropna(inplace=True)"
   ],
   "metadata": {
    "collapsed": false,
    "ExecuteTime": {
     "end_time": "2025-01-30T17:54:50.109747500Z",
     "start_time": "2025-01-30T17:54:49.997986600Z"
    }
   },
   "id": "8206382b6fd934de"
  },
  {
   "cell_type": "code",
   "execution_count": 16,
   "outputs": [],
   "source": [
    "# Rename columns to text and label to keep data consistent\n",
    "data_imdb.rename(columns={\"review\": \"text\", \"sentiment\": \"label\"}, inplace=True)\n",
    "data_rotten.rename(columns={\"reviewText\": \"text\", \"scoreSentiment\": \"label\"}, inplace=True)"
   ],
   "metadata": {
    "collapsed": false,
    "ExecuteTime": {
     "end_time": "2025-01-30T17:57:52.105550200Z",
     "start_time": "2025-01-30T17:57:52.097042800Z"
    }
   },
   "id": "d3f416f0b5e923ef"
  },
  {
   "cell_type": "code",
   "execution_count": 17,
   "outputs": [
    {
     "name": "stdout",
     "output_type": "stream",
     "text": [
      "                                                text     label  \\\n",
      "0  One of the other reviewers has mentioned that ...  positive   \n",
      "1  A wonderful little production. <br /><br />The...  positive   \n",
      "2  I thought this was a wonderful way to spend ti...  positive   \n",
      "3  Basically there's a family where a little boy ...  negative   \n",
      "4  Petter Mattei's \"Love in the Time of Money\" is...  positive   \n",
      "\n",
      "                                              tokens  \n",
      "0  [reviewer, mention, watch, oz, episode, hook, ...  \n",
      "1  [wonderful, little, production, filming, techn...  \n",
      "2  [think, wonderful, way, spend, time, hot, summ...  \n",
      "3  [basically, family, little, boy, jake, think, ...  \n",
      "4  [petter, mattei, love, time, money, visually, ...  \n",
      "                                                text     label  \\\n",
      "0  Timed to be just long enough for most youngste...  POSITIVE   \n",
      "1  It doesn't matter if a movie costs 300 million...  NEGATIVE   \n",
      "2  The choreography is so precise and lifelike at...  POSITIVE   \n",
      "3  The film's out-of-touch attempts at humor may ...  NEGATIVE   \n",
      "4  Its clumsy determination is endearing and some...  POSITIVE   \n",
      "\n",
      "                                              tokens  \n",
      "0  [time, long, youngster, brief, attention, span...  \n",
      "1  [matter, movie, cost, million, dollar, good, g...  \n",
      "2  [choreography, precise, lifelike, point, wonde...  \n",
      "3  [film, touch, attempt, humor, find, hunt, reas...  \n",
      "4  [clumsy, determination, endear, wildly, entert...  \n"
     ]
    }
   ],
   "source": [
    "# Apply tokenization and preprocessing to both datasets to get a better understanding of word distribution\n",
    "from tools.data_preprocess import ClassicPreprocessorSpacy\n",
    "preprocessor = ClassicPreprocessorSpacy()\n",
    "data_imdb[\"tokens\"] = preprocessor.transform(data_imdb[\"text\"])\n",
    "data_rotten[\"tokens\"] = preprocessor.transform(data_rotten[\"text\"])\n",
    "print(data_imdb.head())\n",
    "print(data_rotten.head())"
   ],
   "metadata": {
    "collapsed": false,
    "ExecuteTime": {
     "end_time": "2025-01-30T18:27:45.321169400Z",
     "start_time": "2025-01-30T17:57:55.506034300Z"
    }
   },
   "id": "234aa04f096ce2c3"
  },
  {
   "cell_type": "code",
   "execution_count": 22,
   "outputs": [
    {
     "name": "stdout",
     "output_type": "stream",
     "text": [
      "0\n",
      "488\n"
     ]
    }
   ],
   "source": [
    "# Show empty tokens that may be created by preprocessing\n",
    "print(len(data_imdb[data_imdb[\"tokens\"].apply(lambda x: len(x) == 0)]))\n",
    "print(len(data_rotten[data_rotten[\"tokens\"].apply(lambda x: len(x) == 0)]))"
   ],
   "metadata": {
    "collapsed": false,
    "ExecuteTime": {
     "end_time": "2025-01-30T22:51:02.098120Z",
     "start_time": "2025-01-30T22:51:01.921981Z"
    }
   },
   "id": "55dccfa816275a6a"
  },
  {
   "cell_type": "code",
   "execution_count": null,
   "outputs": [],
   "source": [
    "# 488 empty tokens in rotten data, which need to be dropped"
   ],
   "metadata": {
    "collapsed": false
   },
   "id": "e6c900fd49de4a7c"
  },
  {
   "cell_type": "code",
   "execution_count": 23,
   "outputs": [
    {
     "name": "stdout",
     "output_type": "stream",
     "text": [
      "                                                      text  label tokens\n",
      "4398                                                   1.5      0     []\n",
      "4752                                Enough is enough&#46;       0     []\n",
      "5239                             A pleasure&#46;&#46;&#46;      1     []\n",
      "7905     %u03B7 %u03C0%u03C1%u03BF%u03C3%u03C0%u03AC%u0...      0     []\n",
      "10216    Trauma&#44; warts&#44; fame&#44; and family&#4...      1     []\n",
      "...                                                    ...    ...    ...\n",
      "1437312  He was an heir&#46; She was a dom&#46; Can I m...      1     []\n",
      "1439247                              Not for everyone&#46;      1     []\n",
      "1441575                               Same as it ever was.      0     []\n",
      "1442788                         I'm just not that into it.      0     []\n",
      "1444688  When it&apos;s a &apos;Thor&apos; movie&#44; i...      0     []\n",
      "\n",
      "[488 rows x 3 columns]\n"
     ]
    }
   ],
   "source": [
    "# Get overview of why preprocessing creates empty tokens (short reviews only containing stop words, non alphabetic characters)\n",
    "print(data_rotten[data_rotten[\"tokens\"].apply(lambda x: len(x) == 0)])"
   ],
   "metadata": {
    "collapsed": false,
    "ExecuteTime": {
     "end_time": "2025-01-30T22:51:38.261700Z",
     "start_time": "2025-01-30T22:51:38.163219700Z"
    }
   },
   "id": "6238baee75de29c0"
  },
  {
   "cell_type": "code",
   "execution_count": 24,
   "outputs": [],
   "source": [
    "# Drop empty tokens\n",
    "data_rotten = data_rotten[data_rotten[\"tokens\"].apply(lambda x: len(x) > 0)]"
   ],
   "metadata": {
    "collapsed": false,
    "ExecuteTime": {
     "end_time": "2025-01-30T22:53:12.312225600Z",
     "start_time": "2025-01-30T22:53:11.699426600Z"
    }
   },
   "id": "b26e9c8dd4c01a8"
  },
  {
   "cell_type": "code",
   "execution_count": 18,
   "outputs": [],
   "source": [
    "# Turn sentiment into binary to allow model to understand\n",
    "data_imdb[\"label\"] = data_imdb[\"label\"].apply(lambda x: 1 if x == \"positive\" else 0)\n",
    "data_rotten[\"label\"] = data_rotten[\"label\"].apply(lambda x: 1 if x == \"POSITIVE\" else 0)"
   ],
   "metadata": {
    "collapsed": false,
    "ExecuteTime": {
     "end_time": "2025-01-30T22:47:47.276160900Z",
     "start_time": "2025-01-30T22:47:47.094824600Z"
    }
   },
   "id": "d0c1f52b8cf5a674"
  },
  {
   "cell_type": "code",
   "execution_count": 19,
   "outputs": [
    {
     "name": "stdout",
     "output_type": "stream",
     "text": [
      "            count\n",
      "movie      100844\n",
      "film        93192\n",
      "like        43855\n",
      "good        40391\n",
      "time        30475\n",
      "character   27846\n",
      "watch       27215\n",
      "bad         26003\n",
      "story       24696\n",
      "see         24477\n"
     ]
    }
   ],
   "source": [
    "# Count word/ token occurrences in imdb data\n",
    "from collections import Counter\n",
    "word_count_imdb = Counter()\n",
    "for i in range(data_imdb.shape[0]):\n",
    "    word_count_imdb.update(data_imdb[\"tokens\"][i])\n",
    "# Create table of word counts\n",
    "word_counts_df_imdb = pd.DataFrame.from_dict(word_count_imdb, orient=\"index\", columns=[\"count\"])\n",
    "word_counts_df_imdb = word_counts_df_imdb.sort_values(by=\"count\", ascending=False)\n",
    "\n",
    "print(word_counts_df_imdb.head(10))\n"
   ],
   "metadata": {
    "collapsed": false,
    "ExecuteTime": {
     "end_time": "2025-01-30T22:47:54.471996400Z",
     "start_time": "2025-01-30T22:47:54.153974200Z"
    }
   },
   "id": "2df5e75be4f40657"
  },
  {
   "cell_type": "code",
   "execution_count": 26,
   "outputs": [
    {
     "name": "stdout",
     "output_type": "stream",
     "text": [
      "              count\n",
      "film         272864\n",
      "movie        178687\n",
      "good          97208\n",
      "like          96165\n",
      "story         89785\n",
      "time          66253\n",
      "character     65901\n",
      "feel          58657\n",
      "performance   57994\n",
      "work          52933\n"
     ]
    }
   ],
   "source": [
    "# Count word/ token occurrences in rotten data\n",
    "# reset index to avoid key error\n",
    "data_rotten.reset_index(drop=True, inplace=True)\n",
    "word_count_rotten = Counter()\n",
    "for i in range(data_rotten.shape[0]):\n",
    "    word_count_rotten.update(data_rotten[\"tokens\"][i])\n",
    "# Create table of word counts\n",
    "word_counts_df_rotten = pd.DataFrame.from_dict(word_count_rotten, orient=\"index\", columns=[\"count\"])\n",
    "word_counts_df_rotten = word_counts_df_rotten.sort_values(by=\"count\", ascending=False)\n",
    "\n",
    "print(word_counts_df_rotten.head(10))"
   ],
   "metadata": {
    "collapsed": false,
    "ExecuteTime": {
     "end_time": "2025-01-30T22:53:30.606267700Z",
     "start_time": "2025-01-30T22:53:26.950979400Z"
    }
   },
   "id": "37c6ec4dd3466272"
  },
  {
   "cell_type": "code",
   "execution_count": null,
   "outputs": [],
   "source": [
    "# Similar words are most present in both datasets, which is expected"
   ],
   "metadata": {
    "collapsed": false
   },
   "id": "e79e49cd4e138bb0"
  },
  {
   "cell_type": "code",
   "execution_count": 27,
   "outputs": [
    {
     "data": {
      "text/plain": "<Figure size 1000x600 with 1 Axes>",
      "image/png": "[encoded data removed]"
     },
     "metadata": {},
     "output_type": "display_data"
    }
   ],
   "source": [
    "# Plot occurrence of words in imdb data\n",
    "plt.figure(figsize=(10, 6))\n",
    "sns.histplot(word_counts_df_imdb[\"count\"], bins=100, log_scale=True)\n",
    "plt.xlabel(\"Word count\")\n",
    "plt.ylabel(\"Frequency\")\n",
    "plt.title(\"Word count frequency\")\n",
    "plt.show()\n"
   ],
   "metadata": {
    "collapsed": false,
    "ExecuteTime": {
     "end_time": "2025-01-30T22:54:29.216850200Z",
     "start_time": "2025-01-30T22:54:28.867631500Z"
    }
   },
   "id": "2455f15d60874116"
  },
  {
   "cell_type": "code",
   "execution_count": 28,
   "outputs": [
    {
     "data": {
      "text/plain": "<Figure size 1000x600 with 1 Axes>",
      "image/png": "[encoded data removed]"
     },
     "metadata": {},
     "output_type": "display_data"
    }
   ],
   "source": [
    "# Plot occurrence of words in rotten data\n",
    "plt.figure(figsize=(10, 6))\n",
    "sns.histplot(word_counts_df_rotten[\"count\"], bins=100, log_scale=True)\n",
    "plt.xlabel(\"Word count\")\n",
    "plt.ylabel(\"Frequency\")\n",
    "plt.title(\"Word count frequency\")\n",
    "plt.show()"
   ],
   "metadata": {
    "collapsed": false,
    "ExecuteTime": {
     "end_time": "2025-01-30T22:54:31.381188Z",
     "start_time": "2025-01-30T22:54:31.170747700Z"
    }
   },
   "id": "a503cc11ab8ec19e"
  },
  {
   "cell_type": "code",
   "execution_count": null,
   "outputs": [],
   "source": [
    "# Similarly shaped distribution, with most words occurring only a few times\n"
   ],
   "metadata": {
    "collapsed": false
   },
   "id": "303277b7934175e6"
  },
  {
   "cell_type": "code",
   "execution_count": 42,
   "outputs": [
    {
     "name": "stdout",
     "output_type": "stream",
     "text": [
      "Total unique tokens: 84742\n",
      "Total tokens: 5011153\n"
     ]
    }
   ],
   "source": [
    "# Calculate total number of tokens and unique tokens in imdb data\n",
    "total_tokens_imdb = sum(word_counts_df_imdb[\"count\"])\n",
    "total_unique_tokens_imdb = word_counts_df_imdb.shape[0]\n",
    "print(f\"Total unique tokens: {total_unique_tokens_imdb}\")\n",
    "print(f\"Total tokens: {total_tokens_imdb}\")\n"
   ],
   "metadata": {
    "collapsed": false,
    "ExecuteTime": {
     "end_time": "2025-01-30T23:02:21.563705700Z",
     "start_time": "2025-01-30T23:02:21.556831500Z"
    }
   },
   "id": "fa72aae5f35d71b9"
  },
  {
   "cell_type": "markdown",
   "source": [],
   "metadata": {
    "collapsed": false
   },
   "id": "6e676f55f39c59b8"
  },
  {
   "cell_type": "code",
   "execution_count": 45,
   "outputs": [
    {
     "name": "stdout",
     "output_type": "stream",
     "text": [
      "Total unique tokens: 133846\n",
      "Total tokens: 15211718\n"
     ]
    }
   ],
   "source": [
    "# Calculate total number of tokens and unique tokens in rotten data\n",
    "total_tokens_rotten = sum(word_counts_df_rotten[\"count\"])\n",
    "total_unique_tokens_rotten = word_counts_df_rotten.shape[0]\n",
    "print(f\"Total unique tokens: {total_unique_tokens_rotten}\")\n",
    "print(f\"Total tokens: {total_tokens_rotten}\")"
   ],
   "metadata": {
    "collapsed": false,
    "ExecuteTime": {
     "end_time": "2025-01-30T23:03:16.203568400Z",
     "start_time": "2025-01-30T23:03:16.197738300Z"
    }
   },
   "id": "4294b073af339b90"
  },
  {
   "cell_type": "code",
   "execution_count": null,
   "outputs": [],
   "source": [
    "# Rotten data has more unique tokens, which is expected in a larger dataset"
   ],
   "metadata": {
    "collapsed": false
   },
   "id": "1faf8ed0b8344b94"
  },
  {
   "cell_type": "code",
   "execution_count": 34,
   "outputs": [
    {
     "name": "stdout",
     "output_type": "stream",
     "text": [
      "117\n"
     ]
    }
   ],
   "source": [
    "# Check how many words occur over 10% of the time in imdb data\n",
    "print(len(word_counts_df_imdb[word_counts_df_imdb[\"count\"] > 0.1 * data_imdb.shape[0]]))\n"
   ],
   "metadata": {
    "collapsed": false,
    "ExecuteTime": {
     "end_time": "2025-01-30T22:58:59.173523700Z",
     "start_time": "2025-01-30T22:58:59.164014700Z"
    }
   },
   "id": "449f81535bfa8fe6"
  },
  {
   "cell_type": "code",
   "execution_count": 36,
   "outputs": [
    {
     "name": "stdout",
     "output_type": "stream",
     "text": [
      "2\n"
     ]
    }
   ],
   "source": [
    "# Check how many words occur over 10% of the time in rotten data\n",
    "print(len(word_counts_df_rotten[word_counts_df_rotten[\"count\"] > 0.1 * data_rotten.shape[0]]))"
   ],
   "metadata": {
    "collapsed": false,
    "ExecuteTime": {
     "end_time": "2025-01-30T22:59:13.040532300Z",
     "start_time": "2025-01-30T22:59:13.029901900Z"
    }
   },
   "id": "bb13a5569526cf0a"
  },
  {
   "cell_type": "code",
   "execution_count": null,
   "outputs": [],
   "source": [
    "# rotten data has only 2 words that occur over 10% of the time, which is very low"
   ],
   "metadata": {
    "collapsed": false
   },
   "id": "fa36a0e3682fdfa0"
  },
  {
   "cell_type": "code",
   "execution_count": 43,
   "outputs": [
    {
     "name": "stdout",
     "output_type": "stream",
     "text": [
      "34978\n",
      "41.275872648745604\n"
     ]
    }
   ],
   "source": [
    "# Check how many words occur only once in imdb data\n",
    "only_once_imdb = len(word_counts_df_imdb[word_counts_df_imdb[\"count\"] == 1])\n",
    "print(only_once_imdb)\n",
    "print(only_once_imdb / total_unique_tokens_imdb*100)\n"
   ],
   "metadata": {
    "collapsed": false,
    "ExecuteTime": {
     "end_time": "2025-01-30T23:03:04.064469400Z",
     "start_time": "2025-01-30T23:03:04.055231100Z"
    }
   },
   "id": "183254eb34d50a19"
  },
  {
   "cell_type": "code",
   "execution_count": 46,
   "outputs": [
    {
     "name": "stdout",
     "output_type": "stream",
     "text": [
      "54284\n",
      "40.55705811156105\n"
     ]
    }
   ],
   "source": [
    "# Check how many words occur only once in rotten data\n",
    "only_once_rotten = len(word_counts_df_rotten[word_counts_df_rotten[\"count\"] == 1])\n",
    "print(only_once_rotten)\n",
    "print(only_once_rotten / total_unique_tokens_rotten*100)"
   ],
   "metadata": {
    "collapsed": false,
    "ExecuteTime": {
     "end_time": "2025-01-30T23:03:18.219769200Z",
     "start_time": "2025-01-30T23:03:18.212529300Z"
    }
   },
   "id": "a3b5860d9ca99f03"
  },
  {
   "cell_type": "code",
   "execution_count": null,
   "outputs": [],
   "source": [
    "# Similar percentage of words that occur only once in both datasets around 41%\n",
    "# These words dont provide much information for training"
   ],
   "metadata": {
    "collapsed": false
   },
   "id": "efc379fec659bd34"
  },
  {
   "cell_type": "code",
   "execution_count": 54,
   "outputs": [
    {
     "data": {
      "text/plain": "<Figure size 1000x600 with 1 Axes>",
      "image/png": "[encoded data removed]"
     },
     "metadata": {},
     "output_type": "display_data"
    }
   ],
   "source": [
    "# Check cumulative percentage of top 10000 words in imdb data\n",
    "cumulative_imdb = word_counts_df_imdb[\"count\"].cumsum() / total_tokens_imdb\n",
    "# create cumulative distribution chart\n",
    "plt.figure(figsize=(10, 6))\n",
    "sns.lineplot(x=range(1, total_unique_tokens_imdb+1), y=cumulative_imdb)\n",
    "plt.xlabel(\"Number of words\")\n",
    "plt.ylabel(\"Cumulative percentage\")\n",
    "plt.title(\"Cumulative percentage of words in imdb data\")\n",
    "plt.show()"
   ],
   "metadata": {
    "collapsed": false,
    "ExecuteTime": {
     "end_time": "2025-01-30T23:07:27.949727400Z",
     "start_time": "2025-01-30T23:07:27.780285400Z"
    }
   },
   "id": "d2c5c41e1ce2affc"
  },
  {
   "cell_type": "code",
   "execution_count": 55,
   "outputs": [
    {
     "name": "stdout",
     "output_type": "stream",
     "text": [
      "0.9131674016044736\n"
     ]
    },
    {
     "name": "stderr",
     "output_type": "stream",
     "text": [
      "C:\\Users\\vince\\AppData\\Local\\Temp\\ipykernel_2196\\2067560859.py:3: FutureWarning: Series.__getitem__ treating keys as positions is deprecated. In a future version, integer keys will always be treated as labels (consistent with DataFrame behavior). To access a value by position, use `ser.iloc[pos]`\n",
      "  print(cumulative_rotten[10000])\n"
     ]
    },
    {
     "data": {
      "text/plain": "<Figure size 1000x600 with 1 Axes>",
      "image/png": "[encoded data removed]"
     },
     "metadata": {},
     "output_type": "display_data"
    }
   ],
   "source": [
    "# Check cumulative percentage of top 10000 words in rotten data\n",
    "cumulative_rotten = word_counts_df_rotten[\"count\"].cumsum() / total_tokens_rotten\n",
    "print(cumulative_rotten[10000])\n",
    "# create cumulative distribution chart\n",
    "plt.figure(figsize=(10, 6))\n",
    "sns.lineplot(x=range(1, total_unique_tokens_rotten+1), y=cumulative_rotten)\n",
    "plt.xlabel(\"Number of words\")\n",
    "plt.ylabel(\"Cumulative percentage\")\n",
    "plt.title(\"Cumulative percentage of words in rotten data\")\n",
    "plt.show()"
   ],
   "metadata": {
    "collapsed": false,
    "ExecuteTime": {
     "end_time": "2025-01-30T23:07:46.536310300Z",
     "start_time": "2025-01-30T23:07:46.346440100Z"
    }
   },
   "id": "3f80aa6dd77c6614"
  },
  {
   "cell_type": "code",
   "execution_count": null,
   "outputs": [],
   "source": [
    "# over 90% of tokens are covered by the top 10000 words in both datasets -> vectorizer maximum features can be set to 10000"
   ],
   "metadata": {
    "collapsed": false
   },
   "id": "6587eab6698a6f9e"
  },
  {
   "cell_type": "code",
   "execution_count": 56,
   "outputs": [
    {
     "name": "stdout",
     "output_type": "stream",
     "text": [
      "3216\n"
     ]
    }
   ],
   "source": [
    "# Check how many tokens cover 80% of the data in imdb data\n",
    "print(len(cumulative_imdb[cumulative_imdb < 0.8]))\n"
   ],
   "metadata": {
    "collapsed": false,
    "ExecuteTime": {
     "end_time": "2025-01-30T23:08:22.663039800Z",
     "start_time": "2025-01-30T23:08:22.646572800Z"
    }
   },
   "id": "d4f72e735d7e2666"
  },
  {
   "cell_type": "code",
   "execution_count": 57,
   "outputs": [
    {
     "name": "stdout",
     "output_type": "stream",
     "text": [
      "4050\n"
     ]
    }
   ],
   "source": [
    "# Check how many tokens cover 80% of the data in rotten data\n",
    "print(len(cumulative_rotten[cumulative_rotten < 0.8]))"
   ],
   "metadata": {
    "collapsed": false,
    "ExecuteTime": {
     "end_time": "2025-01-30T23:08:28.084668600Z",
     "start_time": "2025-01-30T23:08:28.067802200Z"
    }
   },
   "id": "71bb297a95c6234d"
  },
  {
   "cell_type": "code",
   "execution_count": null,
   "outputs": [],
   "source": [
    "# 3200 tokens carry 80% of the information in imdb data, while 4000 tokens carry 80% of the information in rotten data\n",
    "# -> try vectorizers with around 4000 features"
   ],
   "metadata": {
    "collapsed": false
   },
   "id": "569ae94a3832649b"
  },
  {
   "cell_type": "code",
   "execution_count": null,
   "outputs": [],
   "source": [],
   "metadata": {
    "collapsed": false
   },
   "id": "fddd16c94687242"
  }
 ],
 "metadata": {
  "kernelspec": {
   "display_name": "Python 3",
   "language": "python",
   "name": "python3"
  },
  "language_info": {
   "codemirror_mode": {
    "name": "ipython",
    "version": 2
   },
   "file_extension": ".py",
   "mimetype": "text/x-python",
   "name": "python",
   "nbconvert_exporter": "python",
   "pygments_lexer": "ipython2",
   "version": "2.7.6"
  }
 },
 "nbformat": 4,
 "nbformat_minor": 5
}
